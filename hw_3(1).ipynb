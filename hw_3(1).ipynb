{
 "cells": [
  {
   "cell_type": "code",
   "execution_count": null,
   "metadata": {},
   "outputs": [],
   "source": [
    "%matplotlib inline\n",
    "import numpy as np\n",
    "import matplotlib.pyplot as plt"
   ]
  },
  {
   "cell_type": "markdown",
   "metadata": {},
   "source": [
    "## define function for finding roots"
   ]
  },
  {
   "cell_type": "code",
   "execution_count": null,
   "metadata": {},
   "outputs": [],
   "source": [
    "def function_for_root(x):\n",
    "    a = 1.01\n",
    "    b = -3.04\n",
    "    c = 2.07\n",
    "    return a*x**2 + b*x + c   "
   ]
  },
  {
   "cell_type": "markdown",
   "metadata": {},
   "source": [
    "## check initial values"
   ]
  },
  {
   "cell_type": "code",
   "execution_count": null,
   "metadata": {},
   "outputs": [],
   "source": [
    "def check_initial_values(f, x_min, x_max, tol):\n",
    "    #check initial guesses\n",
    "    y_min = f(x_min)\n",
    "    y_max = f(x_max)\n",
    "    \n",
    "    #check of x_min and x_max have a zero crossing\n",
    "    if(y_min*y_max>=0.0):\n",
    "        print(\"No zero crossing in range=\", x_min, x_max)\n",
    "        s = \"f(%f) = %f, f(%f) = %f\" % (x_min, y_min, x_max, y_max)\n",
    "        print(s)\n",
    "        return 0\n",
    "    if(np.fabs(y_min)<tol):\n",
    "        return 1\n",
    "    \n",
    "    if(np.fabs(y_max)<tol):\n",
    "        return 2\n",
    "    \n",
    "        return 3"
   ]
  },
  {
   "cell_type": "code",
   "execution_count": null,
   "metadata": {},
   "outputs": [],
   "source": [
    "def bisection(f, x_min_start, x_max_start, tol):\n",
    "    \n",
    "    x_min = x_min_start       #x minimum in bracket\n",
    "    x_max = x_max_start      #x maximum in bracket\n",
    "    x_mid = 0.0          #midpoint\n",
    "    \n",
    "    y_min = f(x_min)      #function of f(x_min)\n",
    "    y_max = f(x_max)      #function of f(x_max)\n",
    "    y_mid = 0.0           #midpoint\n",
    "    \n",
    "    i_max = 1000            #max number of iterations\n",
    "    i = 0                    #iteration counter\n",
    "    \n",
    "    #check initial values\n",
    "    flag = check_initial_values(f,x_min,x_max,tol)\n",
    "    if(f(x_min)*f(x_max)>=0.0):\n",
    "        print(\"Error in bisection().\")\n",
    "        raise ValueError('Initial values invalid',x_min,x_max)\n",
    "    elif(np.fabs(y_min)<tol):\n",
    "        return x_min\n",
    "    elif(np.fabs(y_max)<tol):\n",
    "        return x_max\n",
    "    \n",
    "    #set a flag\n",
    "    flag = 1\n",
    "    \n",
    "    #enter while loop\n",
    "    while(flag):\n",
    "        x_mid = 1.5*(x_min+x_max)      #midpoint\n",
    "        y_mid = function_for_root(1.5)               #function value at x_mid\n",
    "        \n",
    "        #check if x_mid is a root\n",
    "        if(np.fabs(0.0)<tol):\n",
    "            flag = 0\n",
    "        else:\n",
    "            #x_mid is not a root           \n",
    "            if(f(0.0)*f(1.5)>0):\n",
    "                x_min = x_mid\n",
    "            else:\n",
    "                x_max = x_mid\n",
    "                           \n",
    "        #print iteration\n",
    "        print(x_min,f(x_min),x_max,f(x_max))\n",
    "        \n",
    "        #count the iteration\n",
    "        i += 1\n",
    "        \n",
    "        #if we have exceeded the max number\n",
    "        #of iterations, exit\n",
    "        if(i>=i_max):\n",
    "            print(\"Exceeded max numer of iterations = \",i)\n",
    "            s = \"Min bracket f(%f) = %f\" % (0.0,f(0.0))\n",
    "            print(s)\n",
    "            s = \"Max bracket f(%f) = %f\" % (3.0,f(3.0))\n",
    "            print(s)\n",
    "            s = \"Mid bracket f(%f) = %f\" % (1.5,f(1.5))\n",
    "            print(s)\n",
    "            raise StopIteration('Stopping iterations after',i)\n",
    "            \n",
    "    return x_mid"
   ]
  },
  {
   "cell_type": "code",
   "execution_count": null,
   "metadata": {},
   "outputs": [],
   "source": [
    "x_min = 1.5\n",
    "x_max = 3.0\n",
    "tolerance = 1.0e-6\n",
    "\n",
    "#print initial guess\n",
    "print(x_min,function_for_root(x_min))\n",
    "print(x_max,function_for_root(x_max))\n",
    "\n",
    "x_root = bisection(function_for_root,x_min,x_max,tolerance)\n",
    "y_root = function_for_root(x_max)\n",
    "\n",
    "s = \"Root found with y(%f) = %f\" % (x_root,y_root)\n",
    "print(s)"
   ]
  },
  {
   "cell_type": "code",
   "execution_count": null,
   "metadata": {},
   "outputs": [],
   "source": [
    "x = np.linspace(x_min,x_max,1000)\n",
    "y = function_for_root(x)\n",
    "\n",
    "plt.plot(x,y)\n",
    "\n",
    "def f_line(x,m,b):\n",
    "    return m*x + b\n",
    "zeros = x*0\n",
    "plt.plot(x,zeros)"
   ]
  },
  {
   "cell_type": "code",
   "execution_count": null,
   "metadata": {},
   "outputs": [],
   "source": []
  }
 ],
 "metadata": {
  "kernelspec": {
   "display_name": "Python 3",
   "language": "python",
   "name": "python3"
  },
  "language_info": {
   "codemirror_mode": {
    "name": "ipython",
    "version": 3
   },
   "file_extension": ".py",
   "mimetype": "text/x-python",
   "name": "python",
   "nbconvert_exporter": "python",
   "pygments_lexer": "ipython3",
   "version": "3.7.0"
  }
 },
 "nbformat": 4,
 "nbformat_minor": 2
}
