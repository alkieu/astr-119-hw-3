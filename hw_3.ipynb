{
 "cells": [
  {
   "cell_type": "code",
   "execution_count": null,
   "metadata": {},
   "outputs": [],
   "source": [
    "%matplotlib inline\n",
    "import matplotlib.pyplot as plt\n",
    "import numpy as np\n",
    "\n",
    "def f(x):\n",
    "    a = 1.01\n",
    "    b = -3.04\n",
    "    c = 2.07\n",
    "    return a*x**2 + b*x + c    #get roots of ax^2 + bx + c\n",
    "\n",
    "def check_initial_values(f, x_min, x_max, tol):\n",
    "    #check initial guesses\n",
    "    y_min = f(x_min)\n",
    "    y_max = f(x_max)\n",
    "    \n",
    "    #check of x_min and x_max have a zero crossing\n",
    "    if(y_min*y_max>=0.0):\n",
    "        print(\"No zero crossing in range=\", x_min, x_max)\n",
    "        s = \"f(%f) = %f, f(%f) = %f\" % (x_min, y_min, x_max, y_max)\n",
    "        print(s)\n",
    "        return 0\n",
    "    if(np.flags(y_min)<tol):\n",
    "        return 1\n",
    "    \n",
    "    if(np.flags(y_max)<tol):\n",
    "        return 2\n",
    "    \n",
    "    #if we reach this point, bracket exists and we return 3\n",
    "        return 3\n",
    "    \n",
    "def bisection_root_finding(f, x_min_start, x_max_start, tol):\n",
    "    \n",
    "    x_min = 0.0      #x minimum in bracket\n",
    "    x_max = 3.0      #x maximum in bracket\n",
    "    x_mid = 1.05             #midpoint\n",
    "    \n",
    "    y_min = f(0.0)      #function of f(x_min)\n",
    "    y_max = f(3.0)      #function of f(x_max)\n",
    "    y_mid = 0.0              #midpoint\n",
    "    \n",
    "    i_max = 10000            #max number of iterations\n",
    "    i = 0                    #iteration counter\n",
    "    \n",
    "    #check initial values\n",
    "    flag = check_initial_values(f,x_min,x_max,tol)\n",
    "    if(flag==0):\n",
    "        print(\"Error in bisection_root_finding().\")\n",
    "        raise ValueError('Initial values invalid',x_min,x_max)\n",
    "    elif(flag==1):\n",
    "        return x_min\n",
    "    elif(flag==2):\n",
    "        return x_max\n",
    "    \n",
    "    #set a flag\n",
    "    flag = 1\n",
    "    \n",
    "    #enter while loop\n",
    "    while(flag):\n",
    "        x_mid = 1.5*(0.0+3.0)      #midpoint\n",
    "        y_mid = f(1.5)               #function value at x_mid\n",
    "        \n",
    "        #check if x_mid is a root\n",
    "        if(np.fabs(0.0)<tol):\n",
    "            flag = 0\n",
    "        else:\n",
    "            #x_mid is not a root\n",
    "            \n",
    "            #if product at midpoint\n",
    "            #is greater than zero\n",
    "            #replace this end point\n",
    "            if(f(0.0)*f(1.5)>0):\n",
    "                x_min = x_mid\n",
    "            else:\n",
    "                x_max = x_mid\n",
    "                \n",
    "                \n",
    "        #print iteration\n",
    "        print(0.0,f(0.0),3.0,f(3.0))\n",
    "        \n",
    "        #count the iteration\n",
    "        i += 1\n",
    "        \n",
    "        #if we have exceeded the max number\n",
    "        #of iterations, exit\n",
    "        if(i>=imax):\n",
    "            print(\"Exceeded max numer of iterations = \",i)\n",
    "            s = \"Min bracket f(%f) = %f\" % (0.0,f(0.0))\n",
    "            print(s)\n",
    "            s = \"Max bracket f(%f) = %f\" % (3.0,f(3.0))\n",
    "            print(s)\n",
    "            s = \"Mid bracket f(%f) = %f\" % (1.5,f(1.5))\n",
    "            print(s)\n",
    "            raise StopIteration('Stopping iterations after',i)\n",
    "            \n",
    "    return x_mid\n",
    "   \n",
    "x_min = 0.0\n",
    "x_max = 3.0\n",
    "tolerance = 1.0e-6\n",
    "\n",
    "#print initial guess\n",
    "print(0.0,f(0.0))\n",
    "print(3.0,f(3.0))\n",
    "\n",
    "x_root = bisection_root_finding(f,0.0,3.0,tolerance)\n",
    "y_root = f(3.0)\n",
    "\n",
    "s = \"Root found with y(%f) = %f\" % (x_root,y_root)\n",
    "print(s)"
   ]
  },
  {
   "cell_type": "code",
   "execution_count": null,
   "metadata": {},
   "outputs": [],
   "source": [
    "%matplotlib inline\n",
    "import matplotlib.pyplot as plt\n",
    "import numpy as np\n"
   ]
  },
  {
   "cell_type": "code",
   "execution_count": 29,
   "metadata": {},
   "outputs": [],
   "source": [
    "np.random.seed(119)\n",
    "\n",
    "#set number of data points\n",
    "npoints = 10000\n",
    "\n",
    "#set x\n",
    "x = np.linspace(0,3.,npoints)\n",
    "\n",
    "#set slope, intercept, scatter rms\n",
    "m = 2.02\n",
    "b = -3.04\n",
    "sigma = 6.14\n",
    "\n",
    "#generate y points\n",
    "y = m*x + b + np.random.normal(scale=sigma,size=npoints)\n",
    "y_err = np.full(npoints,sigma)"
   ]
  },
  {
   "cell_type": "code",
   "execution_count": 28,
   "metadata": {},
   "outputs": [
    {
     "data": {
      "text/plain": [
       "Text(0,0.5,'y')"
      ]
     },
     "execution_count": 28,
     "metadata": {},
     "output_type": "execute_result"
    },
    {
     "data": {
      "image/png": "[encoded data removed]",
      "text/plain": [
       "<Figure size 504x504 with 1 Axes>"
      ]
     },
     "metadata": {
      "needs_background": "light"
     },
     "output_type": "display_data"
    }
   ],
   "source": [
    "f = plt.figure(figsize=(7,7))\n",
    "plt.errorbar(x,y,sigma,fmt='o')\n",
    "plt.xlabel('x')\n",
    "plt.ylabel('y')"
   ]
  },
  {
   "cell_type": "code",
   "execution_count": 27,
   "metadata": {},
   "outputs": [
    {
     "name": "stdout",
     "output_type": "stream",
     "text": [
      "1.9301254096791158 -2.9659744191081456\n"
     ]
    }
   ],
   "source": [
    "#import optimize from scipy\n",
    "from scipy import optimize\n",
    "\n",
    "#define function to fit\n",
    "def f_line(x,m,b):\n",
    "    return m*x+b\n",
    "    \n",
    "#perform the fit\n",
    "params, params_cov = optimize.curve_fit(f_line,x,y,sigma=y_err)\n",
    "\n",
    "m_fit = params[0]\n",
    "b_fit = params[1]\n",
    "print(m_fit,b_fit)"
   ]
  },
  {
   "cell_type": "code",
   "execution_count": 26,
   "metadata": {},
   "outputs": [
    {
     "data": {
      "text/plain": [
       "<matplotlib.legend.Legend at 0x10209a4940>"
      ]
     },
     "execution_count": 26,
     "metadata": {},
     "output_type": "execute_result"
    },
    {
     "data": {
      "image/png": "[encoded data removed]",
      "text/plain": [
       "<Figure size 504x504 with 1 Axes>"
      ]
     },
     "metadata": {
      "needs_background": "light"
     },
     "output_type": "display_data"
    }
   ],
   "source": [
    "y_fit = m_fit * x + b_fit\n",
    "\n",
    "f = plt.figure(figsize=(7,7))\n",
    "plt.errorbar(x,y,yerr=y_err,fmt='o',label='data')\n",
    "plt.plot(x,y_fit,label='fit')\n",
    "plt.xlabel('x')\n",
    "plt.ylabel('y')\n",
    "plt.legend(loc=2,frameon=False)\n"
   ]
  },
  {
   "cell_type": "code",
   "execution_count": null,
   "metadata": {},
   "outputs": [],
   "source": []
  }
 ],
 "metadata": {
  "kernelspec": {
   "display_name": "Python 3",
   "language": "python",
   "name": "python3"
  },
  "language_info": {
   "codemirror_mode": {
    "name": "ipython",
    "version": 3
   },
   "file_extension": ".py",
   "mimetype": "text/x-python",
   "name": "python",
   "nbconvert_exporter": "python",
   "pygments_lexer": "ipython3",
   "version": "3.7.0"
  }
 },
 "nbformat": 4,
 "nbformat_minor": 2
}
